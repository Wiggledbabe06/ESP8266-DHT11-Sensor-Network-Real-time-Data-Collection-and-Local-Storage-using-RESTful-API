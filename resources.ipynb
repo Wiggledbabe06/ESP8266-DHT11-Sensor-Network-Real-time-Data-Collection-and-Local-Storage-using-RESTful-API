{
 "cells": [
  {
   "cell_type": "code",
   "execution_count": 1,
   "id": "f582538d",
   "metadata": {
    "scrolled": true
   },
   "outputs": [
    {
     "ename": "SyntaxError",
     "evalue": "incomplete input (3743108733.py, line 46)",
     "output_type": "error",
     "traceback": [
      "\u001b[1;36m  Cell \u001b[1;32mIn[1], line 46\u001b[1;36m\u001b[0m\n\u001b[1;33m    def delete(self):\u001b[0m\n\u001b[1;37m                     ^\u001b[0m\n\u001b[1;31mSyntaxError\u001b[0m\u001b[1;31m:\u001b[0m incomplete input\n"
     ]
    }
   ],
   "source": [
    "from flask_restful import Resource, Api, reqparse, fields, marshal_with, abort, marshal\n",
    "from models import user as user_model, db\n",
    "api = Api()\n",
    "\n",
    "user_req = reqparse.RequestParser()\n",
    "user_req.add_argument('Time_Stamp', type = str, help = \"Time_stamp is a String\")\n",
    "user_req.add_argument('Temperature', type = str, help = \"Temperature is a String\")\n",
    "user_req.add_argument('Humidity', type = str, help = \"Humidity is a String\")\n",
    "\n",
    "user_field = {\n",
    "    'Serial_no': fields.Integer,\n",
    "    'Time_stamp': fields.String,\n",
    "    'Temperature':fields.String,\n",
    "    'Humidity': fields.String\n",
    "}\n",
    "\n",
    "class User(Resource):\n",
    "    def get(self, id=None, time_stamp = None, temperature = None, humidity = None ):\n",
    "        \n",
    "        if id:\n",
    "            if id == '0':\n",
    "                user = user_model.query.all()\n",
    "                return marshal(user, user_field)\n",
    "            else:\n",
    "                user = user_model.query.get(id)\n",
    "                if not user:\n",
    "                    return \"BAD REQUEST USER DOES NOT EXIST\"\n",
    "                else:\n",
    "                    return marshal (user, user_field)\n",
    "        if time_stamp:\n",
    "            if temperature:\n",
    "                if humidity:\n",
    "                    user = user_model(Time_Stamp = time_stamp, Temperature = data.Temperature, Humidity=data.Humidity)\n",
    "                    db.session.add(user)\n",
    "                    db.session.commit()\n",
    "                    \n",
    "    @marshal_with(user_field)\n",
    "    def post(self, id = None ):\n",
    "        data = user_req.parse_args()\n",
    "        user = user_model(Time_Stamp = data.Time_Stamp, Temperature = data.temperature, Humidity=data.Humidity)\n",
    "        db.session.add(user)\n",
    "        db.session.commit()\n",
    "        return user\n",
    "    \n",
    "    def put(self):\n",
    "        return \"hello from put\"\n",
    "    \n",
    "    def delete(self): \n",
    "        return \"hello from delete\"\n",
    "    \n",
    "    \n",
    "api.add_resource(User, '/api/DHT11_data', '/api/DHT11_data/<id>', '/api/DHT11_data/updateget/<time_stamp>/<temperature>/<humidity>')\n"
   ]
  },
  {
   "cell_type": "code",
   "execution_count": null,
   "id": "2477b976",
   "metadata": {},
   "outputs": [],
   "source": []
  }
 ],
 "metadata": {
  "kernelspec": {
   "display_name": "Python 3 (ipykernel)",
   "language": "python",
   "name": "python3"
  },
  "language_info": {
   "codemirror_mode": {
    "name": "ipython",
    "version": 3
   },
   "file_extension": ".py",
   "mimetype": "text/x-python",
   "name": "python",
   "nbconvert_exporter": "python",
   "pygments_lexer": "ipython3",
   "version": "3.10.9"
  }
 },
 "nbformat": 4,
 "nbformat_minor": 5
}
