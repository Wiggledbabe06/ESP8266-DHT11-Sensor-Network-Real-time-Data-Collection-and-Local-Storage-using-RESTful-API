{
 "cells": [
  {
   "cell_type": "code",
   "execution_count": null,
   "id": "c2bda6b3",
   "metadata": {},
   "outputs": [],
   "source": [
    "import os\n",
    "from flash import Flask\n",
    "from resources import api\n",
    "form models import db\n",
    "\n",
    "current_dir = os.path.abspath(os.path.dirname(__file__))\n",
    "\n",
    "app = Flask(__name__)\n",
    "\n",
    "app.config('SQALCHEMY_DATABASE_URI') = \"sqlite:///\" + os.path.join(current_dir,\"testdb.sqlite3\")\n",
    "api.init_app(app)\n",
    "db.init_app(app)\n",
    "\n",
    "@app.route('/')\n",
    "def home():\n",
    "    return \"hello\"\n",
    "\n",
    "if __name__ ==\"__main__\":\n",
    "    app.run(debug=True,host='0.0.0.0')\n",
    "    "
   ]
  }
 ],
 "metadata": {
  "kernelspec": {
   "display_name": "Python 3 (ipykernel)",
   "language": "python",
   "name": "python3"
  },
  "language_info": {
   "codemirror_mode": {
    "name": "ipython",
    "version": 3
   },
   "file_extension": ".py",
   "mimetype": "text/x-python",
   "name": "python",
   "nbconvert_exporter": "python",
   "pygments_lexer": "ipython3",
   "version": "3.10.9"
  }
 },
 "nbformat": 4,
 "nbformat_minor": 5
}
