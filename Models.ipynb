{
 "cells": [
  {
   "cell_type": "code",
   "execution_count": null,
   "id": "370123a7",
   "metadata": {},
   "outputs": [],
   "source": [
    "from flask_sqlalchemy import SQLAlchemy\n",
    "db = SQLAlchemy()\n",
    "\n",
    "class user(db.Model):\n",
    "    __tablename__ = 'DHT11_data'\n",
    "    Serial_no = db.Column(db.Integer, primary_key = True, unique = True, autoincrement = True)\n",
    "    Time_stamp = db.Column(db.String(80), unique = True)\n",
    "    Temperature = db.Column(db.String(80))\n",
    "    Humidity = db.Column(db.String(80))"
   ]
  }
 ],
 "metadata": {
  "kernelspec": {
   "display_name": "Python 3 (ipykernel)",
   "language": "python",
   "name": "python3"
  },
  "language_info": {
   "codemirror_mode": {
    "name": "ipython",
    "version": 3
   },
   "file_extension": ".py",
   "mimetype": "text/x-python",
   "name": "python",
   "nbconvert_exporter": "python",
   "pygments_lexer": "ipython3",
   "version": "3.10.9"
  }
 },
 "nbformat": 4,
 "nbformat_minor": 5
}
